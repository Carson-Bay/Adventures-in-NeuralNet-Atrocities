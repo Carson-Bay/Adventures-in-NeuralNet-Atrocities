{
 "cells": [
  {
   "attachments": {},
   "cell_type": "markdown",
   "metadata": {},
   "source": [
    "# Setup"
   ]
  },
  {
   "cell_type": "code",
   "execution_count": 3,
   "metadata": {},
   "outputs": [],
   "source": [
    "import numpy as np\n",
    "import pandas as pd\n",
    "from PIL import Image\n",
    "import time\n",
    "import math\n",
    "import wandb\n",
    "from sklearn.metrics import log_loss\n",
    "import matplotlib.pyplot as plt\n",
    "from common import transfer_functions, utils"
   ]
  },
  {
   "cell_type": "code",
   "execution_count": 5,
   "metadata": {},
   "outputs": [],
   "source": [
    "def Epoch(img, s, w_i_h, w_h_o, b_i_h, b_h_o):\n",
    "    # Forward propagation input -> hidden\n",
    "    h_pre = b_i_h + w_i_h @ img\n",
    "    h = transfer_functions.sigmoid(h_pre)\n",
    "    # Forward propagation hidden -> output\n",
    "    o_pre = b_h_o + w_h_o @ h\n",
    "    o = transfer_functions.sigmoid(o_pre)\n",
    "\n",
    "    # Backpropagation output -> hidden (cost function ddverivative)\n",
    "    delta_o = o - s  # cross_entropy(s, o) * o\n",
    "    w_h_o += -learn_rate * delta_o @ np.transpose(h)\n",
    "    b_h_o += -learn_rate * delta_o\n",
    "\n",
    "    # Backpropagation hidden -> input (activation function derivative)\n",
    "    delta_h = np.transpose(w_h_o) @ delta_o * (h * (1 - h))\n",
    "    w_i_h += -learn_rate * delta_h @ np.transpose(img)\n",
    "    b_i_h += -learn_rate * delta_h\n",
    "    return w_i_h, w_h_o, b_i_h, b_h_o"
   ]
  },
  {
   "cell_type": "code",
   "execution_count": 6,
   "metadata": {},
   "outputs": [],
   "source": [
    "def evaluate(img, s, w_i_h, w_h_o, b_i_h, b_h_o):\n",
    "\n",
    "    # Forward propagation input -> hidden\n",
    "    h_pre = b_i_h + w_i_h @ img\n",
    "    h = transfer_functions.sigmoid(h_pre)\n",
    "    # Forward propagation hidden -> output\n",
    "    o_pre = b_h_o + w_h_o @ h\n",
    "    o = transfer_functions.sigmoid(o_pre)\n",
    "\n",
    "    return o"
   ]
  },
  {
   "attachments": {},
   "cell_type": "markdown",
   "metadata": {},
   "source": [
    "# Train Model"
   ]
  },
  {
   "cell_type": "code",
   "execution_count": null,
   "metadata": {},
   "outputs": [],
   "source": [
    "dataset = \"Basic11\"\n",
    "Model_name = \"StartingTest\"\n",
    "\n",
    "mazes, solves = utils.load_data(f\"datasets/Mazes/{dataset}.pickle\")\n",
    "\n",
    "input_layer_size = 121\n",
    "hidden_layer_size = 100\n",
    "output_layer_size = 121\n",
    "\n",
    "learn_rate = 1\n",
    "epochs = 40\n",
    "\n",
    "# start a new wandb run to track this script\n",
    "wandb.init(\n",
    "    # set the wandb project where this run will be logged\n",
    "    project=\"MazeSolver\",\n",
    "    \n",
    "    # track hyperparameters and run metadata\n",
    "    config={\n",
    "    \"learning_rate\": learn_rate,\n",
    "    \"hidden_layer_sizes\": [100],\n",
    "    \"dataset\": dataset,\n",
    "    \"activation\": \"Sigmoid\",\n",
    "    \"epochs\": epochs,\n",
    "    },\n",
    ")\n",
    "\n",
    "\n",
    "# weights = w, biases = b, input = i, hidden = h, output = o\n",
    "# w_i_h = weights input to hidden\n",
    "\n",
    "# Initialize layers\n",
    "w_i_h = np.random.uniform(-0.5, 0.5, (hidden_layer_size, input_layer_size))\n",
    "w_h_o = np.random.uniform(-0.5, 0.5, (output_layer_size, hidden_layer_size))\n",
    "b_i_h = np.zeros((hidden_layer_size, 1))\n",
    "b_h_o = np.zeros((output_layer_size, 1))\n",
    "\n",
    "'''\n",
    "TODO Implement Batches\n",
    "\n",
    "Load data into memory based off of batch number, back propogate in batches\n",
    "Currently we are using batch size=1 or schotastic training. while also loading all of the data into memory\n",
    "this is a less direct training approach and when moving to larger datasets will destroy our memory.\n",
    "\n",
    "TODO convert dataset to a batchable type\n",
    "'''\n",
    "test_partition = 5000\n",
    "\n",
    "for epocho in range(epochs):\n",
    "    for index in range(len(mazes) - test_partition):\n",
    "        img, s = mazes[index], solves[index]\n",
    "        img.shape += (1,)\n",
    "        s.shape += (1,)\n",
    "        w_i_h, w_h_o, b_i_h, b_h_o = Epoch(img, s, w_i_h, w_h_o, b_i_h, b_h_o)\n",
    "    \n",
    "    factor = 10\n",
    "    average_score = []\n",
    "    loss = []\n",
    "\n",
    "    for index in range(-1, -test_partition, -1):\n",
    "        img, s = mazes[index], solves[index]\n",
    "        img.shape += (1,)\n",
    "        s.shape += (1,)\n",
    "        s_pred = evaluate(img, s, w_i_h, w_h_o, b_i_h, b_h_o)\n",
    "\n",
    "        average = 1 - abs(s - s_pred).mean()\n",
    "        score = math.exp((average-1)*factor)*average\n",
    "        average_score.append(score)\n",
    "        loss.append(log_loss(s, s_pred))\n",
    "\n",
    "    mean_acc = np.mean(average_score)*100\n",
    "    highest_acc = np.amax(average_score) * 100\n",
    "    lowest_acc = np.amin(average_score) * 100\n",
    "    mean_loss = np.mean(loss)\n",
    "    wandb.log({\n",
    "        \"Accuracy\": mean_acc,\n",
    "        \"Loss\": mean_loss \n",
    "        })\n",
    "\n",
    "\n",
    "    # Show accuracy for this epoch\n",
    "    print(f\"Epoch #{epocho} Mean Acc: {round(mean_acc, 3)}% Highest Acc: {round(highest_acc, 3)}% Lowest Acc: {round(lowest_acc, 3)}%\")\n",
    "    #print(f\"Index High: {average_score.index(np.amax(average_score))} Index Low: {average_score.index(np.amin(average_score))}\")\n",
    "\n",
    "wandb.finish()\n",
    "utils.store_model(f\"models/Mazes/{Model_name}.pickle\", w_i_h, w_h_o, b_i_h, b_h_o)"
   ]
  },
  {
   "attachments": {},
   "cell_type": "markdown",
   "metadata": {},
   "source": [
    "# Load Model"
   ]
  },
  {
   "cell_type": "code",
   "execution_count": 97,
   "metadata": {},
   "outputs": [],
   "source": [
    "w_i_h, w_h_o, b_i_h, b_h_o = utils.load_model(\"models/11x11MazeModel.pickle\", 3)"
   ]
  },
  {
   "attachments": {},
   "cell_type": "markdown",
   "metadata": {},
   "source": [
    "# Model Testing"
   ]
  },
  {
   "cell_type": "code",
   "execution_count": 144,
   "metadata": {},
   "outputs": [
    {
     "name": "stdout",
     "output_type": "stream",
     "text": [
      "73.27809652150397\n"
     ]
    },
    {
     "data": {
      "text/plain": [
       "<Figure size 640x480 with 0 Axes>"
      ]
     },
     "metadata": {},
     "output_type": "display_data"
    },
    {
     "data": {
      "image/png": "[encoded data removed]",
      "text/plain": [
       "<Figure size 640x480 with 3 Axes>"
      ]
     },
     "metadata": {},
     "output_type": "display_data"
    }
   ],
   "source": [
    "# Last Thousand images are not used in training\n",
    "test_index = 3456\n",
    "\n",
    "# Extract Maze\n",
    "maze = mazes[test_index]\n",
    "solve = solves[test_index]\n",
    "maze.shape += (1,)\n",
    "solve.shape += (1,)\n",
    "\n",
    "# Forward propagation input -> hidden\n",
    "h_pre = b_i_h + w_i_h @ maze\n",
    "h = transfer_functions.sigmoid(h_pre)\n",
    "# Forward propagation hidden -> output\n",
    "o_pre = b_h_o + w_h_o @ h\n",
    "o = transfer_functions.sigmoid(o_pre)\n",
    "\n",
    "# Show Output\n",
    "reshaped_maze = 255 - maze.reshape(11, 11) * 255\n",
    "reshaped_solve = solve.reshape(11, 11) * 255\n",
    "reshaped_o = o.reshape(11, 11) * 255\n",
    "\n",
    "maze_img = Image.fromarray(reshaped_maze)\n",
    "solve_img = Image.fromarray(reshaped_solve)\n",
    "o_img = Image.fromarray(reshaped_o)\n",
    "\n",
    "# Creat Plot\n",
    "plt.figure()\n",
    "f, axarr = plt.subplots(1,3) \n",
    "\n",
    "axarr[0].title.set_text(\"Input Maze\")\n",
    "axarr[0].imshow(maze_img)\n",
    "axarr[1].title.set_text(\"Correct Output\")\n",
    "axarr[1].imshow(solve_img)\n",
    "axarr[2].title.set_text(\"Generated Ouput\")\n",
    "axarr[2].imshow(o_img)\n",
    "\n",
    "average = 1 - abs(solve - o).mean()\n",
    "factor = 10\n",
    "score = math.exp((average-1)*factor)*average\n",
    "\n",
    "print(score * 100)\n"
   ]
  },
  {
   "cell_type": "code",
   "execution_count": 147,
   "metadata": {},
   "outputs": [
    {
     "data": {
      "text/plain": [
       "<matplotlib.image.AxesImage at 0x7f90eb47bd60>"
      ]
     },
     "execution_count": 147,
     "metadata": {},
     "output_type": "execute_result"
    },
    {
     "data": {
      "text/plain": [
       "<Figure size 640x480 with 0 Axes>"
      ]
     },
     "metadata": {},
     "output_type": "display_data"
    },
    {
     "data": {
      "image/png": "[encoded data removed]",
      "text/plain": [
       "<Figure size 640x480 with 3 Axes>"
      ]
     },
     "metadata": {},
     "output_type": "display_data"
    }
   ],
   "source": [
    "\n",
    "# Last Thousand images are not used in training\n",
    "test_index = -20\n",
    "\n",
    "# Extract Maze\n",
    "maze = mazes[test_index].reshape(11, 11)\n",
    "solve = solves[test_index].reshape(11, 11)\n",
    "maze = maze.T\n",
    "solve = solve.T\n",
    "\n",
    "maze = maze.flatten()\n",
    "solve = solve.flatten()\n",
    "\n",
    "maze.shape += (1,)\n",
    "solve.shape += (1,)\n",
    "\n",
    "# Forward propagation input -> hidden\n",
    "h_pre = b_i_h + w_i_h @ maze\n",
    "h = transfer_functions.sigmoid(h_pre)\n",
    "# Forward propagation hidden -> output\n",
    "o_pre = b_h_o + w_h_o @ h\n",
    "o = transfer_functions.sigmoid(o_pre)\n",
    "\n",
    "# Show Output\n",
    "reshaped_maze = 255 - maze.reshape(11, 11) * 255\n",
    "reshaped_solve = solve.reshape(11, 11) * 255\n",
    "reshaped_o = o.reshape(11, 11) * 255\n",
    "\n",
    "maze_img = Image.fromarray(reshaped_maze)\n",
    "solve_img = Image.fromarray(reshaped_solve)\n",
    "o_img = Image.fromarray(reshaped_o)\n",
    "\n",
    "# Creat Plot\n",
    "plt.figure()\n",
    "f, axarr = plt.subplots(1,3) \n",
    "\n",
    "axarr[0].title.set_text(\"Input Maze\")\n",
    "axarr[0].imshow(maze_img)\n",
    "axarr[1].title.set_text(\"Correct Output\")\n",
    "axarr[1].imshow(solve_img)\n",
    "axarr[2].title.set_text(\"Generated Ouput\")\n",
    "axarr[2].imshow(o_img)"
   ]
  },
  {
   "attachments": {},
   "cell_type": "markdown",
   "metadata": {},
   "source": [
    "## Removing Duplicates test"
   ]
  },
  {
   "cell_type": "code",
   "execution_count": null,
   "metadata": {},
   "outputs": [],
   "source": [
    "\n",
    "\n",
    "mazes, solves = utils.load_data(f\"datasets/Mazes/Basic11.pickle\")\n",
    "\n",
    "mazes_df = pd.DataFrame(mazes)\n",
    "\n",
    "arr, uniq_cnt = np.unique(mazes, axis=0, return_counts=True)\n",
    "uniq_arr = arr[uniq_cnt>1]\n",
    "same_arr = arr[uniq_cnt==1]\n",
    "\n",
    "print(pd.DataFrame(same_arr).describe())\n",
    "\n",
    "indicies = np.where((mazes == uniq_arr[1]).all(axis=1))\n",
    "print(indicies)\n",
    "\n",
    "reshaped_maze = 255 - mazes[161].reshape(11, 11) * 255\n",
    "reshaped_solve = 255 - mazes[36897].reshape(11, 11) * 255\n",
    "#reshaped_o = o.reshape(11, 11) * 255\n",
    "\n",
    "maze_img = Image.fromarray(reshaped_maze)\n",
    "solve_img = Image.fromarray(reshaped_solve)\n",
    "#o_img = Image.fromarray(reshaped_o)\n",
    "\n",
    "# Creat Plot\n",
    "plt.figure()\n",
    "f, axarr = plt.subplots(1,2) \n",
    "\n",
    "axarr[0].title.set_text(\"Input Maze\")\n",
    "axarr[0].imshow(maze_img)\n",
    "axarr[1].title.set_text(\"Correct Output\")\n",
    "axarr[1].imshow(solve_img)\n",
    "#axarr[2].title.set_text(\"Generated Ouput\")\n",
    "#axarr[2].imshow(o_img)"
   ]
  },
  {
   "cell_type": "code",
   "execution_count": 4,
   "metadata": {},
   "outputs": [
    {
     "data": {
      "text/plain": [
       "<matplotlib.image.AxesImage at 0x7fa264550370>"
      ]
     },
     "execution_count": 4,
     "metadata": {},
     "output_type": "execute_result"
    },
    {
     "data": {
      "text/plain": [
       "<Figure size 640x480 with 0 Axes>"
      ]
     },
     "metadata": {},
     "output_type": "display_data"
    },
    {
     "data": {
      "image/png": "[encoded data removed]",
      "text/plain": [
       "<Figure size 640x480 with 2 Axes>"
      ]
     },
     "metadata": {},
     "output_type": "display_data"
    }
   ],
   "source": [
    "import pickle\n",
    "\n",
    "with open(\"datasets/Mazes/NewMazeDataset21.pickle\", \"rb\") as fin:\n",
    "    mazes = pickle.load(fin)\n",
    "\n",
    "reshaped_maze = mazes[61].reshape(21, 21) * 255\n",
    "#reshaped_o = o.reshape(11, 11) * 255\n",
    "\n",
    "maze_img = Image.fromarray(reshaped_maze)\n",
    "\n",
    "# Creat Plot\n",
    "plt.figure()\n",
    "f, axarr = plt.subplots(1,2) \n",
    "\n",
    "axarr[0].title.set_text(\"Input Maze\")\n",
    "axarr[0].imshow(maze_img)\n"
   ]
  }
 ],
 "metadata": {
  "kernelspec": {
   "display_name": "venv",
   "language": "python",
   "name": "python3"
  },
  "language_info": {
   "codemirror_mode": {
    "name": "ipython",
    "version": 3
   },
   "file_extension": ".py",
   "mimetype": "text/x-python",
   "name": "python",
   "nbconvert_exporter": "python",
   "pygments_lexer": "ipython3",
   "version": "3.10.6"
  },
  "orig_nbformat": 4
 },
 "nbformat": 4,
 "nbformat_minor": 2
}
