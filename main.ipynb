{
 "cells": [
  {
   "attachments": {},
   "cell_type": "markdown",
   "metadata": {},
   "source": [
    "# Setup"
   ]
  },
  {
   "cell_type": "code",
   "execution_count": 1,
   "metadata": {},
   "outputs": [],
   "source": [
    "import numpy as np\n",
    "from PIL import Image\n",
    "import time\n",
    "import matplotlib.pyplot as plt\n",
    "from common import transfer_functions, utils"
   ]
  },
  {
   "cell_type": "code",
   "execution_count": 2,
   "metadata": {},
   "outputs": [],
   "source": [
    "def Epoch(img, s, w_i_h, w_h_o, b_i_h, b_h_o):\n",
    "    # Forward propagation input -> hidden\n",
    "    h_pre = b_i_h + w_i_h @ img\n",
    "    h = transfer_functions.sigmoid(h_pre)\n",
    "    # Forward propagation hidden -> output\n",
    "    o_pre = b_h_o + w_h_o @ h\n",
    "    o = transfer_functions.sigmoid(o_pre)\n",
    "\n",
    "    # Backpropagation output -> hidden (cost function ddverivative)\n",
    "    delta_o = o - s  # cross_entropy(s, o) * o\n",
    "    w_h_o += -learn_rate * delta_o @ np.transpose(h)\n",
    "    b_h_o += -learn_rate * delta_o\n",
    "\n",
    "    # Backpropagation hidden -> input (activation function derivative)\n",
    "    delta_h = np.transpose(w_h_o) @ delta_o * (h * (1 - h))\n",
    "    w_i_h += -learn_rate * delta_h @ np.transpose(img)\n",
    "    b_i_h += -learn_rate * delta_h\n",
    "    return w_i_h, w_h_o, b_i_h, b_h_o"
   ]
  },
  {
   "attachments": {},
   "cell_type": "markdown",
   "metadata": {},
   "source": [
    "# Train Model"
   ]
  },
  {
   "cell_type": "code",
   "execution_count": null,
   "metadata": {},
   "outputs": [],
   "source": [
    "mazes, solves = utils.load_data(\"datasets/MazesSolves11.pickle\")\n",
    "w_i_h = np.random.uniform(-0.5, 0.5, (100, 121))\n",
    "w_h_o = np.random.uniform(-0.5, 0.5, (121, 100))\n",
    "b_i_h = np.zeros((100, 1))\n",
    "b_h_o = np.zeros((121, 1))\n",
    "\n",
    "learn_rate = 0.01\n",
    "epochs = 40\n",
    "\n",
    "for epocho in range(epochs):\n",
    "    for index in range(len(mazes) - 1000):\n",
    "        img, s = mazes[index], solves[index]\n",
    "        img.shape += (1,)\n",
    "        s.shape += (1,)\n",
    "        w_i_h, w_h_o, b_i_h, b_h_o = Epoch(img, s, w_i_h, w_h_o, b_i_h, b_h_o)\n",
    "\n",
    "    # Show accuracy for this epoch\n",
    "    print(f\"Epoch #{epocho} \")  # Mean Acc: {np.mean(ac_list) * 100}%  Highest Acc: {np.amax(ac_list) * 100}%\"\n",
    "    # f\"  Lowest Acc: {np.amin(ac_list) * 100}%\")\n",
    "\n",
    "\n",
    "utils.store_model(\"models/11x11MazeModel.pickle\", w_i_h, w_h_o, b_i_h, b_h_o)"
   ]
  },
  {
   "cell_type": "code",
   "execution_count": 12,
   "metadata": {},
   "outputs": [
    {
     "data": {
      "text/plain": [
       "<matplotlib.image.AxesImage at 0x7f90f0ad60e0>"
      ]
     },
     "execution_count": 12,
     "metadata": {},
     "output_type": "execute_result"
    },
    {
     "data": {
      "text/plain": [
       "<Figure size 640x480 with 0 Axes>"
      ]
     },
     "metadata": {},
     "output_type": "display_data"
    },
    {
     "data": {
      "image/png": "[encoded data removed]",
      "text/plain": [
       "<Figure size 640x480 with 3 Axes>"
      ]
     },
     "metadata": {},
     "output_type": "display_data"
    }
   ],
   "source": [
    "test_index = -50\n",
    "\n",
    "# Extract Maze\n",
    "maze = mazes[test_index]\n",
    "solve = solves[test_index]\n",
    "maze.shape += (1,)\n",
    "solve.shape += (1,)\n",
    "\n",
    "\n",
    "# Forward propagation input -> hidden\n",
    "h_pre = b_i_h + w_i_h @ maze\n",
    "h = transfer_functions.sigmoid(h_pre)\n",
    "# Forward propagation hidden -> output\n",
    "o_pre = b_h_o + w_h_o @ h\n",
    "o = transfer_functions.sigmoid(o_pre)\n",
    "\n",
    "# Show Output\n",
    "reshaped_maze = 255 - maze.reshape(11, 11) * 255\n",
    "reshaped_solve = solve.reshape(11, 11) * 255\n",
    "reshaped_o = o.reshape(11, 11) * 255\n",
    "\n",
    "maze_img = Image.fromarray(reshaped_maze)\n",
    "solve_img = Image.fromarray(reshaped_solve)\n",
    "o_img = Image.fromarray(reshaped_o)\n",
    "\n",
    "# Creat Plot\n",
    "plt.figure()\n",
    "f, axarr = plt.subplots(1,3) \n",
    "\n",
    "axarr[0].imshow(maze_img)\n",
    "axarr[1].imshow(solve_img)\n",
    "axarr[2].imshow(o_img)\n"
   ]
  },
  {
   "cell_type": "code",
   "execution_count": 6,
   "metadata": {},
   "outputs": [],
   "source": []
  }
 ],
 "metadata": {
  "kernelspec": {
   "display_name": "venv",
   "language": "python",
   "name": "python3"
  },
  "language_info": {
   "codemirror_mode": {
    "name": "ipython",
    "version": 3
   },
   "file_extension": ".py",
   "mimetype": "text/x-python",
   "name": "python",
   "nbconvert_exporter": "python",
   "pygments_lexer": "ipython3",
   "version": "3.10.6"
  },
  "orig_nbformat": 4
 },
 "nbformat": 4,
 "nbformat_minor": 2
}
