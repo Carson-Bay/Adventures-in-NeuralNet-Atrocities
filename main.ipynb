{
 "cells": [
  {
   "attachments": {},
   "cell_type": "markdown",
   "metadata": {},
   "source": [
    "# Setup"
   ]
  },
  {
   "cell_type": "code",
   "execution_count": 1,
   "metadata": {},
   "outputs": [],
   "source": [
    "import numpy as np\n",
    "import pandas as pd\n",
    "from PIL import Image\n",
    "import time\n",
    "import math\n",
    "import wandb\n",
    "from sklearn.metrics import log_loss\n",
    "import matplotlib.pyplot as plt\n",
    "from common import transfer_functions, utils"
   ]
  },
  {
   "attachments": {},
   "cell_type": "markdown",
   "metadata": {},
   "source": [
    "# 1 Layer Functions"
   ]
  },
  {
   "cell_type": "code",
   "execution_count": 2,
   "metadata": {},
   "outputs": [],
   "source": [
    "def Epoch(img, s, weights, biases):\n",
    "    # Forward propagation input -> hidden\n",
    "    h_pre = biases[0] + weights[0] @ img\n",
    "    h = transfer_functions.sigmoid(h_pre)\n",
    "    # Forward propagation hidden -> output\n",
    "    o_pre = biases[1] + weights[1] @ h\n",
    "    o = transfer_functions.sigmoid(o_pre)\n",
    "\n",
    "    # Backpropagation output -> hidden (cost function ddverivative)\n",
    "    delta_o = o - s  # cross_entropy(s, o) * o\n",
    "    weights[1] += -learn_rate * delta_o @ np.transpose(h)\n",
    "    biases[1] += -learn_rate * delta_o\n",
    "\n",
    "    # Backpropagation hidden -> input (activation function derivative)\n",
    "    delta_h = np.transpose(weights[1]) @ delta_o * (h * (1 - h))\n",
    "    weights[0] += -learn_rate * delta_h @ np.transpose(img)\n",
    "    biases[0] += -learn_rate * delta_h\n",
    "    return weights, biases"
   ]
  },
  {
   "cell_type": "code",
   "execution_count": 3,
   "metadata": {},
   "outputs": [],
   "source": [
    "def evaluate(img, weights, biases):\n",
    "\n",
    "    # Forward propagation input -> hidden\n",
    "    h_pre = biases[0] + weights[0] @ img\n",
    "    h = transfer_functions.sigmoid(h_pre)\n",
    "    # Forward propagation hidden -> output\n",
    "    o_pre = biases[1] + weights[1] @ h\n",
    "    o = transfer_functions.sigmoid(o_pre)\n",
    "\n",
    "    return o"
   ]
  },
  {
   "attachments": {},
   "cell_type": "markdown",
   "metadata": {},
   "source": [
    "# 2 Layer functions"
   ]
  },
  {
   "cell_type": "code",
   "execution_count": 25,
   "metadata": {},
   "outputs": [],
   "source": [
    "def Epoch(img, s, weights, biases):\n",
    "    # Forward propagation input -> hidden\n",
    "    h1_pre = biases[0] + weights[0] @ img\n",
    "    h1 = transfer_functions.sigmoid(h1_pre)\n",
    "\n",
    "    h2_pre = biases[1] + weights[1] @ h1\n",
    "    h2 = transfer_functions.sigmoid(h2_pre)\n",
    "\n",
    "    # Forward propagation hidden -> output\n",
    "    o_pre = biases[2] + weights[2] @ h2\n",
    "    o = transfer_functions.sigmoid(o_pre)\n",
    "\n",
    "    # Backpropagation output -> hidden (cost function ddverivative)\n",
    "    delta_o = o - s  # cross_entropy(s, o) * o\n",
    "    weights[2] += -learn_rate * delta_o @ np.transpose(h2)\n",
    "    biases[2] += -learn_rate * delta_o\n",
    "\n",
    "    # Backpropagation hidden -> input (activation function derivative)\n",
    "    delta_h2 = np.transpose(weights[2]) @ delta_o * (h2 * (1 - h2))\n",
    "    weights[1] += -learn_rate * delta_h2 @ np.transpose(h1)\n",
    "    biases[1] += -learn_rate * delta_h2\n",
    "\n",
    "    delta_h1 = np.transpose(weights[1]) @ delta_h2 * (h1 * (1 - h1))\n",
    "    weights[0] += -learn_rate * delta_h1 @ np.transpose(img)\n",
    "    biases[0] += -learn_rate * delta_h1\n",
    "\n",
    "    return weights, biases"
   ]
  },
  {
   "cell_type": "code",
   "execution_count": 26,
   "metadata": {},
   "outputs": [],
   "source": [
    "def evaluate(img, weights, biases):\n",
    "\n",
    "    # Forward propagation input -> hidden\n",
    "    h1_pre = biases[0] + weights[0] @ img\n",
    "    h1 = transfer_functions.sigmoid(h1_pre)\n",
    "\n",
    "    h2_pre = biases[1] + weights[1] @ h1\n",
    "    h2 = transfer_functions.sigmoid(h2_pre)\n",
    "\n",
    "    # Forward propagation hidden -> output\n",
    "    o_pre = biases[2] + weights[2] @ h2\n",
    "    o = transfer_functions.sigmoid(o_pre)\n",
    "\n",
    "    return o"
   ]
  },
  {
   "attachments": {},
   "cell_type": "markdown",
   "metadata": {},
   "source": [
    "# Train Model"
   ]
  },
  {
   "cell_type": "code",
   "execution_count": 27,
   "metadata": {},
   "outputs": [
    {
     "data": {
      "text/html": [
       "Finishing last run (ID:pyxkc48b) before initializing another..."
      ],
      "text/plain": [
       "<IPython.core.display.HTML object>"
      ]
     },
     "metadata": {},
     "output_type": "display_data"
    },
    {
     "data": {
      "text/html": [
       "Waiting for W&B process to finish... <strong style=\"color:green\">(success).</strong>"
      ],
      "text/plain": [
       "<IPython.core.display.HTML object>"
      ]
     },
     "metadata": {},
     "output_type": "display_data"
    },
    {
     "data": {
      "application/vnd.jupyter.widget-view+json": {
       "model_id": "8710c9a30cf4484494ae11f400c333b1",
       "version_major": 2,
       "version_minor": 0
      },
      "text/plain": [
       "VBox(children=(Label(value='0.004 MB of 0.004 MB uploaded (0.000 MB deduped)\\r'), FloatProgress(value=0.867960…"
      ]
     },
     "metadata": {},
     "output_type": "display_data"
    },
    {
     "data": {
      "text/html": [
       " View run <strong style=\"color:#cdcd00\">logical-thunder-15</strong> at: <a href='https://wandb.ai/neuralnetwork-atrocities/MazeSolver/runs/pyxkc48b' target=\"_blank\">https://wandb.ai/neuralnetwork-atrocities/MazeSolver/runs/pyxkc48b</a><br/>Synced 4 W&B file(s), 0 media file(s), 0 artifact file(s) and 0 other file(s)"
      ],
      "text/plain": [
       "<IPython.core.display.HTML object>"
      ]
     },
     "metadata": {},
     "output_type": "display_data"
    },
    {
     "data": {
      "text/html": [
       "Find logs at: <code>./wandb/run-20230623_001942-pyxkc48b/logs</code>"
      ],
      "text/plain": [
       "<IPython.core.display.HTML object>"
      ]
     },
     "metadata": {},
     "output_type": "display_data"
    },
    {
     "data": {
      "text/html": [
       "Successfully finished last run (ID:pyxkc48b). Initializing new run:<br/>"
      ],
      "text/plain": [
       "<IPython.core.display.HTML object>"
      ]
     },
     "metadata": {},
     "output_type": "display_data"
    },
    {
     "data": {
      "application/vnd.jupyter.widget-view+json": {
       "model_id": "83b4356931124e1ebd46ff9068d379ae",
       "version_major": 2,
       "version_minor": 0
      },
      "text/plain": [
       "VBox(children=(Label(value='Waiting for wandb.init()...\\r'), FloatProgress(value=0.0166692233166638, max=1.0))…"
      ]
     },
     "metadata": {},
     "output_type": "display_data"
    },
    {
     "data": {
      "text/html": [
       "Tracking run with wandb version 0.15.4"
      ],
      "text/plain": [
       "<IPython.core.display.HTML object>"
      ]
     },
     "metadata": {},
     "output_type": "display_data"
    },
    {
     "data": {
      "text/html": [
       "Run data is saved locally in <code>/home/ubuntu/Projects/Adventures-in-NeuralNet-Atrocities/wandb/run-20230623_001958-83w9wuae</code>"
      ],
      "text/plain": [
       "<IPython.core.display.HTML object>"
      ]
     },
     "metadata": {},
     "output_type": "display_data"
    },
    {
     "data": {
      "text/html": [
       "Syncing run <strong><a href='https://wandb.ai/neuralnetwork-atrocities/MazeSolver/runs/83w9wuae' target=\"_blank\">misty-snowball-16</a></strong> to <a href='https://wandb.ai/neuralnetwork-atrocities/MazeSolver' target=\"_blank\">Weights & Biases</a> (<a href='https://wandb.me/run' target=\"_blank\">docs</a>)<br/>"
      ],
      "text/plain": [
       "<IPython.core.display.HTML object>"
      ]
     },
     "metadata": {},
     "output_type": "display_data"
    },
    {
     "data": {
      "text/html": [
       " View project at <a href='https://wandb.ai/neuralnetwork-atrocities/MazeSolver' target=\"_blank\">https://wandb.ai/neuralnetwork-atrocities/MazeSolver</a>"
      ],
      "text/plain": [
       "<IPython.core.display.HTML object>"
      ]
     },
     "metadata": {},
     "output_type": "display_data"
    },
    {
     "data": {
      "text/html": [
       " View run at <a href='https://wandb.ai/neuralnetwork-atrocities/MazeSolver/runs/83w9wuae' target=\"_blank\">https://wandb.ai/neuralnetwork-atrocities/MazeSolver/runs/83w9wuae</a>"
      ],
      "text/plain": [
       "<IPython.core.display.HTML object>"
      ]
     },
     "metadata": {},
     "output_type": "display_data"
    },
    {
     "name": "stdout",
     "output_type": "stream",
     "text": [
      "Epoch #0 Mean Acc: 22.162% Highest Acc: 76.956% Lowest Acc: 3.389%\n",
      "Epoch #1 Mean Acc: 27.612% Highest Acc: 87.017% Lowest Acc: 3.468%\n",
      "Epoch #2 Mean Acc: 34.46% Highest Acc: 95.044% Lowest Acc: 4.164%\n",
      "Epoch #3 Mean Acc: 36.527% Highest Acc: 95.175% Lowest Acc: 3.305%\n",
      "Epoch #4 Mean Acc: 39.665% Highest Acc: 96.31% Lowest Acc: 3.356%\n",
      "Epoch #5 Mean Acc: 46.112% Highest Acc: 96.594% Lowest Acc: 4.53%\n",
      "Epoch #6 Mean Acc: 47.451% Highest Acc: 98.71% Lowest Acc: 4.318%\n",
      "Epoch #7 Mean Acc: 49.281% Highest Acc: 98.97% Lowest Acc: 3.835%\n",
      "Epoch #8 Mean Acc: 51.928% Highest Acc: 99.441% Lowest Acc: 4.318%\n",
      "Epoch #9 Mean Acc: 50.43% Highest Acc: 98.792% Lowest Acc: 5.05%\n",
      "Epoch #10 Mean Acc: 55.439% Highest Acc: 99.098% Lowest Acc: 3.042%\n",
      "Epoch #11 Mean Acc: 54.403% Highest Acc: 99.091% Lowest Acc: 3.942%\n",
      "Epoch #12 Mean Acc: 60.548% Highest Acc: 99.389% Lowest Acc: 3.039%\n",
      "Epoch #13 Mean Acc: 58.146% Highest Acc: 99.599% Lowest Acc: 4.503%\n",
      "Epoch #14 Mean Acc: 58.602% Highest Acc: 99.404% Lowest Acc: 4.412%\n",
      "Epoch #15 Mean Acc: 60.458% Highest Acc: 99.657% Lowest Acc: 4.829%\n",
      "Epoch #16 Mean Acc: 61.818% Highest Acc: 99.642% Lowest Acc: 2.966%\n",
      "Epoch #17 Mean Acc: 64.065% Highest Acc: 99.583% Lowest Acc: 4.98%\n",
      "Epoch #18 Mean Acc: 59.069% Highest Acc: 99.536% Lowest Acc: 2.819%\n",
      "Epoch #19 Mean Acc: 63.947% Highest Acc: 99.506% Lowest Acc: 5.595%\n",
      "Epoch #20 Mean Acc: 61.14% Highest Acc: 99.703% Lowest Acc: 4.073%\n",
      "Epoch #21 Mean Acc: 65.627% Highest Acc: 99.653% Lowest Acc: 4.737%\n",
      "Epoch #22 Mean Acc: 65.514% Highest Acc: 99.773% Lowest Acc: 4.657%\n",
      "Epoch #23 Mean Acc: 61.564% Highest Acc: 99.72% Lowest Acc: 4.06%\n",
      "Epoch #24 Mean Acc: 62.044% Highest Acc: 99.616% Lowest Acc: 2.581%\n",
      "Epoch #25 Mean Acc: 64.906% Highest Acc: 99.769% Lowest Acc: 3.576%\n",
      "Epoch #26 Mean Acc: 65.472% Highest Acc: 99.763% Lowest Acc: 6.347%\n",
      "Epoch #27 Mean Acc: 60.419% Highest Acc: 99.711% Lowest Acc: 4.175%\n",
      "Epoch #28 Mean Acc: 67.68% Highest Acc: 99.683% Lowest Acc: 3.421%\n",
      "Epoch #29 Mean Acc: 64.029% Highest Acc: 99.71% Lowest Acc: 3.62%\n",
      "Epoch #30 Mean Acc: 63.758% Highest Acc: 99.642% Lowest Acc: 4.32%\n",
      "Epoch #31 Mean Acc: 67.835% Highest Acc: 99.719% Lowest Acc: 4.504%\n",
      "Epoch #32 Mean Acc: 67.583% Highest Acc: 99.725% Lowest Acc: 4.461%\n",
      "Epoch #33 Mean Acc: 66.761% Highest Acc: 99.638% Lowest Acc: 3.602%\n",
      "Epoch #34 Mean Acc: 62.159% Highest Acc: 99.805% Lowest Acc: 4.552%\n",
      "Epoch #35 Mean Acc: 63.558% Highest Acc: 99.794% Lowest Acc: 4.601%\n",
      "Epoch #36 Mean Acc: 63.251% Highest Acc: 99.686% Lowest Acc: 5.78%\n",
      "Epoch #37 Mean Acc: 62.719% Highest Acc: 99.655% Lowest Acc: 3.35%\n",
      "Epoch #38 Mean Acc: 64.62% Highest Acc: 99.732% Lowest Acc: 5.479%\n",
      "Epoch #39 Mean Acc: 65.756% Highest Acc: 99.729% Lowest Acc: 4.336%\n"
     ]
    },
    {
     "data": {
      "text/html": [
       "Waiting for W&B process to finish... <strong style=\"color:green\">(success).</strong>"
      ],
      "text/plain": [
       "<IPython.core.display.HTML object>"
      ]
     },
     "metadata": {},
     "output_type": "display_data"
    },
    {
     "data": {
      "application/vnd.jupyter.widget-view+json": {
       "model_id": "38e830b466124a6fb5809897da1d2fe1",
       "version_major": 2,
       "version_minor": 0
      },
      "text/plain": [
       "VBox(children=(Label(value='0.002 MB of 0.002 MB uploaded (0.000 MB deduped)\\r'), FloatProgress(value=1.0, max…"
      ]
     },
     "metadata": {},
     "output_type": "display_data"
    },
    {
     "data": {
      "text/html": [
       "<style>\n",
       "    table.wandb td:nth-child(1) { padding: 0 10px; text-align: left ; width: auto;} td:nth-child(2) {text-align: left ; width: 100%}\n",
       "    .wandb-row { display: flex; flex-direction: row; flex-wrap: wrap; justify-content: flex-start; width: 100% }\n",
       "    .wandb-col { display: flex; flex-direction: column; flex-basis: 100%; flex: 1; padding: 10px; }\n",
       "    </style>\n",
       "<div class=\"wandb-row\"><div class=\"wandb-col\"><h3>Run history:</h3><br/><table class=\"wandb\"><tr><td>Accuracy</td><td>▁▂▃▃▄▅▅▅▆▅▆▆▇▇▇▇▇▇▇▇▇██▇▇██▇█▇▇███▇▇▇▇██</td></tr><tr><td>Loss</td><td>█▇▆▅▅▄▄▄▃▃▃▃▂▂▂▂▂▁▂▂▂▁▁▂▂▂▁▂▁▂▂▁▁▁▂▂▂▂▂▁</td></tr></table><br/></div><div class=\"wandb-col\"><h3>Run summary:</h3><br/><table class=\"wandb\"><tr><td>Accuracy</td><td>65.7558</td></tr><tr><td>Loss</td><td>0.08942</td></tr></table><br/></div></div>"
      ],
      "text/plain": [
       "<IPython.core.display.HTML object>"
      ]
     },
     "metadata": {},
     "output_type": "display_data"
    },
    {
     "data": {
      "text/html": [
       " View run <strong style=\"color:#cdcd00\">misty-snowball-16</strong> at: <a href='https://wandb.ai/neuralnetwork-atrocities/MazeSolver/runs/83w9wuae' target=\"_blank\">https://wandb.ai/neuralnetwork-atrocities/MazeSolver/runs/83w9wuae</a><br/>Synced 5 W&B file(s), 0 media file(s), 0 artifact file(s) and 0 other file(s)"
      ],
      "text/plain": [
       "<IPython.core.display.HTML object>"
      ]
     },
     "metadata": {},
     "output_type": "display_data"
    },
    {
     "data": {
      "text/html": [
       "Find logs at: <code>./wandb/run-20230623_001958-83w9wuae/logs</code>"
      ],
      "text/plain": [
       "<IPython.core.display.HTML object>"
      ]
     },
     "metadata": {},
     "output_type": "display_data"
    }
   ],
   "source": [
    "dataset = \"NewDataset11\"\n",
    "Model_name = \"NewMazeTest11\"\n",
    "\n",
    "mazes, solves = utils.load_data(f\"datasets/Mazes/{dataset}.pickle\")\n",
    "\n",
    "size = 11\n",
    "\n",
    "input_layer_size = size ** 2\n",
    "hidden_layer_sizes = [200, 200]\n",
    "output_layer_size = size ** 2\n",
    "\n",
    "learn_rate = 0.01\n",
    "epochs = 40\n",
    "\n",
    "# start a new wandb run to track this script\n",
    "wandb.init(\n",
    "    # set the wandb project where this run will be logged\n",
    "    project=\"MazeSolver\",\n",
    "    \n",
    "    # track hyperparameters and run metadata\n",
    "    config={\n",
    "    \"learning_rate\": learn_rate,\n",
    "    \"hidden_layer_sizes\": hidden_layer_sizes,\n",
    "    \"dataset\": dataset,\n",
    "    \"activation\": \"Sigmoid\",\n",
    "    \"epochs\": epochs,\n",
    "    },\n",
    ")\n",
    "\n",
    "\n",
    "# weights = w, biases = b, input = i, hidden = h, output = o\n",
    "# w_i_h = weights input to hidden\n",
    "\n",
    "# Initialize layers\n",
    "w_i_h1 = np.random.uniform(-0.5, 0.5, (hidden_layer_sizes[0], input_layer_size))\n",
    "w_h1_h2 = np.random.uniform(-0.5, 0.5, (hidden_layer_sizes[1], hidden_layer_sizes[0]))\n",
    "w_h2_o = np.random.uniform(-0.5, 0.5, (output_layer_size, hidden_layer_sizes[1]))\n",
    "b_i_h1 = np.zeros((hidden_layer_sizes[0], 1))\n",
    "b_h1_h2 = np.zeros((hidden_layer_sizes[1], 1))\n",
    "b_h2_o = np.zeros((output_layer_size, 1))\n",
    "\n",
    "weights = [w_i_h1, w_h1_h2, w_h2_o]\n",
    "biases = [b_i_h1, b_h1_h2, b_h2_o]\n",
    "\n",
    "'''\n",
    "TODO Implement Batches\n",
    "\n",
    "Load data into memory based off of batch number, back propogate in batches\n",
    "Currently we are using batch size=1 or schotastic training. while also loading all of the data into memory\n",
    "this is a less direct training approach and when moving to larger datasets will destroy our memory.\n",
    "\n",
    "TODO convert dataset to a batchable type\n",
    "\n",
    "TODO stop training early and still save model\n",
    "'''\n",
    "test_partition = 5000\n",
    "\n",
    "for epocho in range(epochs):\n",
    "    for index in range(len(mazes) - test_partition):\n",
    "        img, s = mazes[index], solves[index]\n",
    "        img.shape += (1,)\n",
    "        s.shape += (1,)\n",
    "        weights, biases = Epoch(img, s, weights, biases)\n",
    "    \n",
    "    factor = 10\n",
    "    average_score = []\n",
    "    loss = []\n",
    "\n",
    "    for index in range(-1, -test_partition, -1):\n",
    "        img, s = mazes[index], solves[index]\n",
    "        img.shape += (1,)\n",
    "        s.shape += (1,)\n",
    "        s_pred = evaluate(img, weights, biases)\n",
    "        average = 1 - abs(s - s_pred).mean()\n",
    "        score = math.exp((average-1)*factor)*average\n",
    "        average_score.append(score)\n",
    "        loss.append(log_loss(s, s_pred))\n",
    "\n",
    "    mean_acc = np.mean(average_score) * 100\n",
    "    highest_acc = np.amax(average_score) * 100\n",
    "    lowest_acc = np.amin(average_score) * 100\n",
    "    mean_loss = np.mean(loss)\n",
    "    wandb.log({\n",
    "        \"Accuracy\": mean_acc,\n",
    "        \"Loss\": mean_loss \n",
    "        })\n",
    "\n",
    "\n",
    "    # Show accuracy for this epoch\n",
    "    print(f\"Epoch #{epocho} Mean Acc: {round(mean_acc, 3)}% Highest Acc: {round(highest_acc, 3)}% Lowest Acc: {round(lowest_acc, 3)}%\")\n",
    "    #print(f\"Index High: {average_score.index(np.amax(average_score))} Index Low: {average_score.index(np.amin(average_score))}\")\n",
    "\n",
    "wandb.finish()\n",
    "utils.store_model(f\"models/Mazes/{Model_name}.pickle\", weights, biases)"
   ]
  },
  {
   "attachments": {},
   "cell_type": "markdown",
   "metadata": {},
   "source": [
    "# Load Model"
   ]
  },
  {
   "cell_type": "code",
   "execution_count": 11,
   "metadata": {},
   "outputs": [],
   "source": [
    "dataset = \"NewDataset11\"\n",
    "Model_name = \"NewMazeTest11\"\n",
    "\n",
    "mazes, solves = utils.load_data(f\"datasets/Mazes/{dataset}.pickle\")\n",
    "\n",
    "weights, biases = utils.load_model(f\"models/Mazes/{Model_name}.pickle\")"
   ]
  },
  {
   "attachments": {},
   "cell_type": "markdown",
   "metadata": {},
   "source": [
    "# Model Testing"
   ]
  },
  {
   "cell_type": "code",
   "execution_count": 22,
   "metadata": {},
   "outputs": [
    {
     "name": "stdout",
     "output_type": "stream",
     "text": [
      "[0. 1. 0. 0. 0. 0. 0. 0. 0. 0. 0. 0. 1. 0. 1. 1. 1. 1. 1. 0. 0. 0. 0. 1.\n",
      " 0. 1. 0. 0. 0. 1. 0. 0. 0. 0. 1. 0. 1. 1. 1. 0. 1. 0. 0. 0. 0. 1. 0. 0.\n",
      " 0. 1. 0. 1. 0. 0. 0. 0. 1. 1. 1. 1. 1. 0. 1. 0. 0. 0. 0. 0. 0. 0. 0. 0.\n",
      " 0. 1. 0. 0. 0. 0. 0. 0. 0. 0. 0. 0. 1. 1. 1. 0. 0. 0. 0. 0. 0. 0. 0. 0.\n",
      " 0. 1. 0. 0. 0. 0. 0. 0. 0. 0. 0. 0. 1. 0. 0. 0. 0. 0. 0. 0. 0. 0. 0. 1.\n",
      " 0.]\n",
      "30.571564057457763\n"
     ]
    },
    {
     "data": {
      "text/plain": [
       "<Figure size 640x480 with 0 Axes>"
      ]
     },
     "metadata": {},
     "output_type": "display_data"
    },
    {
     "data": {
      "image/png": "[encoded data removed]",
      "text/plain": [
       "<Figure size 640x480 with 3 Axes>"
      ]
     },
     "metadata": {},
     "output_type": "display_data"
    }
   ],
   "source": [
    "# Last Thousand images are not used in training\n",
    "test_index = -346\n",
    "\n",
    "# Extract Maze\n",
    "maze = mazes[test_index]\n",
    "solve = solves[test_index]\n",
    "maze.shape += (1,)\n",
    "solve.shape += (1,)\n",
    "\n",
    "\n",
    "o = evaluate(img, weights, biases)\n",
    "\n",
    "\n",
    "# Show Output\n",
    "reshaped_maze = maze.reshape(11, 11) * 255\n",
    "reshaped_solve = solve.reshape(11, 11) * 255\n",
    "reshaped_o = o.reshape(11, 11) * 255\n",
    "\n",
    "\n",
    "maze_img = Image.fromarray(reshaped_maze)\n",
    "solve_img = Image.fromarray(reshaped_solve)\n",
    "o_img = Image.fromarray(reshaped_o)\n",
    "\n",
    "# Creat Plot\n",
    "plt.figure()\n",
    "f, axarr = plt.subplots(1,3) \n",
    "\n",
    "axarr[0].title.set_text(\"Input Maze\")\n",
    "axarr[0].imshow(maze_img)\n",
    "axarr[1].title.set_text(\"Correct Output\")\n",
    "axarr[1].imshow(solve_img)\n",
    "axarr[2].title.set_text(\"Generated Ouput\")\n",
    "axarr[2].imshow(o_img)\n",
    "\n",
    "average = 1 - abs(solve - o).mean()\n",
    "factor = 10\n",
    "score = math.exp((average-1)*factor)*average\n",
    "\n",
    "print(score * 100)\n"
   ]
  },
  {
   "attachments": {},
   "cell_type": "markdown",
   "metadata": {},
   "source": [
    "## Removing Duplicates test"
   ]
  },
  {
   "cell_type": "code",
   "execution_count": 3,
   "metadata": {},
   "outputs": [
    {
     "name": "stdout",
     "output_type": "stream",
     "text": [
      "           0             1        2             3        4             5    \\\n",
      "count  10472.0  10472.000000  10472.0  10472.000000  10472.0  10472.000000   \n",
      "mean       0.0      0.209129      0.0      0.196238      0.0      0.190604   \n",
      "std        0.0      0.406706      0.0      0.397169      0.0      0.392796   \n",
      "min        0.0      0.000000      0.0      0.000000      0.0      0.000000   \n",
      "25%        0.0      0.000000      0.0      0.000000      0.0      0.000000   \n",
      "50%        0.0      0.000000      0.0      0.000000      0.0      0.000000   \n",
      "75%        0.0      0.000000      0.0      0.000000      0.0      0.000000   \n",
      "max        0.0      1.000000      0.0      1.000000      0.0      1.000000   \n",
      "\n",
      "           6             7        8             9    ...           111  \\\n",
      "count  10472.0  10472.000000  10472.0  10472.000000  ...  10472.000000   \n",
      "mean       0.0      0.196429      0.0      0.207601  ...      0.210657   \n",
      "std        0.0      0.397315      0.0      0.405609  ...      0.407795   \n",
      "min        0.0      0.000000      0.0      0.000000  ...      0.000000   \n",
      "25%        0.0      0.000000      0.0      0.000000  ...      0.000000   \n",
      "50%        0.0      0.000000      0.0      0.000000  ...      0.000000   \n",
      "75%        0.0      0.000000      0.0      0.000000  ...      0.000000   \n",
      "max        0.0      1.000000      0.0      1.000000  ...      1.000000   \n",
      "\n",
      "           112           113      114           115      116           117  \\\n",
      "count  10472.0  10472.000000  10472.0  10472.000000  10472.0  10472.000000   \n",
      "mean       0.0      0.196047      0.0      0.182105      0.0      0.197765   \n",
      "std        0.0      0.397023      0.0      0.385949      0.0      0.398333   \n",
      "min        0.0      0.000000      0.0      0.000000      0.0      0.000000   \n",
      "25%        0.0      0.000000      0.0      0.000000      0.0      0.000000   \n",
      "50%        0.0      0.000000      0.0      0.000000      0.0      0.000000   \n",
      "75%        0.0      0.000000      0.0      0.000000      0.0      0.000000   \n",
      "max        0.0      1.000000      0.0      1.000000      0.0      1.000000   \n",
      "\n",
      "           118           119      120  \n",
      "count  10472.0  10472.000000  10472.0  \n",
      "mean       0.0      0.213426      0.0  \n",
      "std        0.0      0.409746      0.0  \n",
      "min        0.0      0.000000      0.0  \n",
      "25%        0.0      0.000000      0.0  \n",
      "50%        0.0      0.000000      0.0  \n",
      "75%        0.0      0.000000      0.0  \n",
      "max        0.0      1.000000      0.0  \n",
      "\n",
      "[8 rows x 121 columns]\n",
      "(array([   78,    84,   276,   326,   348,   443,   457,   470,   635,\n",
      "         678,   709,   710,   771,   844,   895,   923,   999,  1116,\n",
      "        1133,  1273,  1581,  1687,  1696,  1715,  2002,  2036,  2111,\n",
      "        2486,  2500,  2532,  2607,  2610,  2630,  2795,  2827,  2992,\n",
      "        3182,  3325,  3326,  3440,  3526,  3597,  3625,  3643,  3720,\n",
      "        3979,  4069,  4354,  4379,  4426,  4750,  4825,  4906,  4921,\n",
      "        5037,  5178,  5214,  5215,  5242,  5349,  5353,  5536,  5793,\n",
      "        5954,  6071,  6118,  6163,  6212,  6408,  6447,  6590,  6672,\n",
      "        6756,  6760,  6847,  7044,  7126,  7195,  7293,  7326,  7443,\n",
      "        7454,  7615,  7827,  7861,  7905,  7911,  7998,  8365,  8509,\n",
      "        8548,  8549,  8753,  8923,  9097,  9144,  9401,  9519,  9599,\n",
      "        9828,  9934, 10139, 10171, 10264, 10615, 10630, 10713, 10868,\n",
      "       10968, 11120, 11187, 11256, 11310, 11477, 11838, 11942, 11972,\n",
      "       12046, 12180, 12208, 12341, 12499, 12554, 12733, 12921, 13161,\n",
      "       13411, 13459, 13483, 13495, 13504, 13715, 13735, 13870, 13891,\n",
      "       13981, 14148, 14155, 14169, 14481, 14659, 14686, 14710, 14766,\n",
      "       14806, 14839, 14983, 15017, 15034, 15093, 15430, 15454, 15485,\n",
      "       15631, 15634, 15801, 15804, 15871, 15895, 15985, 16563, 16637,\n",
      "       16692, 16770, 16849, 17024, 17062, 17092, 17139, 17160, 17193,\n",
      "       17325, 17434, 17438, 17551, 17857, 17945, 17983, 18162, 18166,\n",
      "       18788, 18820, 18902, 19252, 19529, 19534, 19571, 19650, 19737,\n",
      "       19749, 19760, 20044, 20078, 20225, 20266, 20352, 20808, 20936,\n",
      "       21002, 21048, 21102, 21316, 21322, 21375, 21420, 21461, 21517,\n",
      "       21540, 21575, 21766, 21790, 21939, 21953, 21988, 22011, 22298,\n",
      "       22563, 22714, 22864, 23112, 23184, 23259, 23288, 23462, 23540,\n",
      "       23549, 23707, 23814, 23872, 24040, 24074, 24181, 24190, 24274,\n",
      "       24298, 24392, 24660, 24941, 25137, 25569, 25640, 25754, 25845,\n",
      "       25892, 25908, 26355, 26458, 26773, 26904, 26954, 27278, 27338,\n",
      "       27364, 27656, 27660, 28014, 28087, 28134, 28425, 28696, 29016,\n",
      "       29054, 29183, 29323, 29436, 29483, 29579, 29624, 29740, 29819,\n",
      "       29872, 29892, 29986, 30027, 30118, 30192, 30280, 30299, 30333,\n",
      "       30698, 30758, 31042, 31113, 31142, 31337, 31449, 31663, 31708,\n",
      "       31771, 31784, 31901, 31991, 32043, 32066, 32072, 32351, 32368,\n",
      "       32452, 32771, 32907, 33104, 33217, 33288, 33518, 33632, 33913,\n",
      "       34071, 34113, 34191, 34325, 34445, 34509, 34656, 34761, 34780,\n",
      "       34804, 34839, 34843, 35028, 35038, 35051, 35322, 35421, 35775,\n",
      "       35890, 35918, 36084, 36594, 37018, 37394, 37758, 37909, 38041,\n",
      "       38209, 38283, 38332, 38371, 38489, 38778, 38949, 38965, 39007,\n",
      "       39179, 39206, 39291, 39730, 39731, 39769, 39809, 40426, 40462,\n",
      "       40576, 40985, 41094, 41160, 41421, 41504, 41718, 41752, 41988,\n",
      "       42007, 42075, 42148, 42257, 42277, 42430, 42438, 42509, 42857,\n",
      "       43245, 43632, 43742, 43857, 43867, 43877, 44183, 44261, 44324,\n",
      "       44339, 44349, 44706, 44727, 44768, 44974, 45089, 45289, 45313,\n",
      "       45334, 45370, 45568, 45580, 45592, 45605, 45608, 45647, 45886,\n",
      "       46071, 46314, 46334, 46492, 46594, 46666, 46729, 46833, 46851,\n",
      "       46857, 46919, 46957, 46987, 47155, 47183, 47226, 47411, 47665,\n",
      "       47697, 48118, 48237, 48329, 48330, 48512, 48742, 48884, 49063,\n",
      "       49118, 49122, 49311, 49393, 49433, 49443, 49522, 49591, 49798,\n",
      "       49808, 49836, 49931]),)\n"
     ]
    },
    {
     "data": {
      "text/plain": [
       "<matplotlib.image.AxesImage at 0x7fbbc80827d0>"
      ]
     },
     "execution_count": 3,
     "metadata": {},
     "output_type": "execute_result"
    },
    {
     "data": {
      "text/plain": [
       "<Figure size 640x480 with 0 Axes>"
      ]
     },
     "metadata": {},
     "output_type": "display_data"
    },
    {
     "data": {
      "image/png": "[encoded data removed]",
      "text/plain": [
       "<Figure size 640x480 with 2 Axes>"
      ]
     },
     "metadata": {},
     "output_type": "display_data"
    }
   ],
   "source": [
    "\n",
    "\n",
    "mazes, solves = utils.load_data(f\"datasets/Mazes/NewDataset11.pickle\")\n",
    "\n",
    "mazes_df = pd.DataFrame(solves)\n",
    "\n",
    "arr, uniq_cnt = np.unique(solves, axis=0, return_counts=True)\n",
    "uniq_arr = arr[uniq_cnt>1]\n",
    "same_arr = arr[uniq_cnt==1]\n",
    "\n",
    "print(pd.DataFrame(same_arr).describe())\n",
    "\n",
    "indicies = np.where((solves == uniq_arr[1]).all(axis=1))\n",
    "print(indicies)\n",
    "\n",
    "reshaped_maze = 255 - mazes[0].reshape(11, 11) * 255\n",
    "reshaped_solve = 255 - mazes[0].reshape(11, 11) * 255\n",
    "#reshaped_o = o.reshape(11, 11) * 255\n",
    "\n",
    "maze_img = Image.fromarray(reshaped_maze)\n",
    "solve_img = Image.fromarray(reshaped_solve)\n",
    "#o_img = Image.fromarray(reshaped_o)\n",
    "\n",
    "# Creat Plot\n",
    "plt.figure()\n",
    "f, axarr = plt.subplots(1,2) \n",
    "\n",
    "axarr[0].title.set_text(\"Input Maze\")\n",
    "axarr[0].imshow(maze_img)\n",
    "axarr[1].title.set_text(\"Correct Output\")\n",
    "axarr[1].imshow(solve_img)\n",
    "#axarr[2].title.set_text(\"Generated Ouput\")\n",
    "#axarr[2].imshow(o_img)"
   ]
  },
  {
   "cell_type": "code",
   "execution_count": 3,
   "metadata": {},
   "outputs": [
    {
     "data": {
      "text/plain": [
       "<matplotlib.image.AxesImage at 0x7f7d37587be0>"
      ]
     },
     "execution_count": 3,
     "metadata": {},
     "output_type": "execute_result"
    },
    {
     "data": {
      "text/plain": [
       "<Figure size 640x480 with 0 Axes>"
      ]
     },
     "metadata": {},
     "output_type": "display_data"
    },
    {
     "data": {
      "image/png": "[encoded data removed]",
      "text/plain": [
       "<Figure size 640x480 with 2 Axes>"
      ]
     },
     "metadata": {},
     "output_type": "display_data"
    }
   ],
   "source": [
    "import pickle\n",
    "\n",
    "with open(\"datasets/Mazes/NewMazeDataset21.pickle\", \"rb\") as fin:\n",
    "    mazes = pickle.load(fin)\n",
    "\n",
    "reshaped_maze = mazes[874].reshape(21, 21) * 255\n",
    "#reshaped_o = o.reshape(11, 11) * 255\n",
    "\n",
    "maze_img = Image.fromarray(reshaped_maze)\n",
    "\n",
    "# Creat Plot\n",
    "plt.figure()\n",
    "f, axarr = plt.subplots(1,2) \n",
    "\n",
    "axarr[0].title.set_text(\"Input Maze\")\n",
    "axarr[0].imshow(maze_img)\n"
   ]
  }
 ],
 "metadata": {
  "kernelspec": {
   "display_name": "venv",
   "language": "python",
   "name": "python3"
  },
  "language_info": {
   "codemirror_mode": {
    "name": "ipython",
    "version": 3
   },
   "file_extension": ".py",
   "mimetype": "text/x-python",
   "name": "python",
   "nbconvert_exporter": "python",
   "pygments_lexer": "ipython3",
   "version": "3.10.6"
  },
  "orig_nbformat": 4
 },
 "nbformat": 4,
 "nbformat_minor": 2
}
